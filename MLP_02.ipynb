{
  "nbformat": 4,
  "nbformat_minor": 0,
  "metadata": {
    "colab": {
      "provenance": []
    },
    "kernelspec": {
      "name": "python3",
      "display_name": "Python 3"
    },
    "language_info": {
      "name": "python"
    }
  },
  "cells": [
    {
      "cell_type": "markdown",
      "source": [
        "#Redes Neurais\n",
        "\n",
        "### Rede Neural Multilayer Perceptron MLP (Regressão)\n",
        "\n",
        "- Carregamento dos pacotes necessários\n",
        "- Geração dos dados\n",
        "- Definição do modelo\n",
        "- Treinamento de modelo\n",
        "- Gráficos e Avaliação\n",
        "- Exercício de Apoio"
      ],
      "metadata": {
        "id": "ikxZW8AllWK6"
      }
    },
    {
      "cell_type": "markdown",
      "source": [
        "# Pacotes"
      ],
      "metadata": {
        "id": "RLcCjipXla_K"
      }
    },
    {
      "cell_type": "code",
      "source": [
        "import numpy as np\n",
        "import pandas as pd\n",
        "import torch\n",
        "import torch.nn as nn\n",
        "import sklearn.datasets\n",
        "from sklearn.preprocessing import MinMaxScaler\n",
        "from sklearn.model_selection import train_test_split\n",
        "import seaborn as sns\n",
        "import matplotlib.pyplot as plt\n"
      ],
      "metadata": {
        "id": "Zo2guFZtmNCI"
      },
      "execution_count": null,
      "outputs": []
    },
    {
      "cell_type": "markdown",
      "source": [
        "# Dados"
      ],
      "metadata": {
        "id": "RsDdr8QSl9-w"
      }
    },
    {
      "cell_type": "markdown",
      "source": [
        "## Geração dos Dados"
      ],
      "metadata": {
        "id": "QI99fg3hnn0F"
      }
    },
    {
      "cell_type": "code",
      "source": [
        "X = np.arange(0,7,0.05)\n",
        "Y = np.sin(X) + 0.3*np.random.randn(X.shape[0]) + 0.5*X\n",
        "plt.plot(X,Y, '.')\n",
        "plt.show()\n",
        "print(X.shape)"
      ],
      "metadata": {
        "colab": {
          "base_uri": "https://localhost:8080/",
          "height": 282
        },
        "id": "GppdtXgWmStV",
        "outputId": "930693c6-bf0b-4521-8dca-1053bf34fc33"
      },
      "execution_count": null,
      "outputs": [
        {
          "output_type": "display_data",
          "data": {
            "text/plain": [
              "<Figure size 432x288 with 1 Axes>"
            ],
            "image/png": "[encoded data removed]"
          },
          "metadata": {
            "needs_background": "light"
          }
        },
        {
          "output_type": "stream",
          "name": "stdout",
          "text": [
            "(140,)\n"
          ]
        }
      ]
    },
    {
      "cell_type": "markdown",
      "source": [
        "## Separação Treino/Validação/Teste"
      ],
      "metadata": {
        "id": "poo1iBBdwyEy"
      }
    },
    {
      "cell_type": "code",
      "source": [
        "X = X.reshape((-1, 1))\n",
        "Y = Y.reshape((-1, 1))\n",
        "\n",
        "# Separação desenvolvimento (30) e teste (70)\n",
        "X_dev, X_test, Y_dev, Y_test = train_test_split(X, Y, test_size=0.8, random_state=42)\n",
        "\n",
        "# Separação treino (80) e validação (20)\n",
        "X_train, X_val, Y_train, Y_val = train_test_split(X_dev, Y_dev, test_size=0.2, random_state=42)\n",
        "\n",
        "print(X_train.shape)\n",
        "print(X_val.shape)\n",
        "print(X_test.shape)\n",
        "\n",
        "plt.plot(X_train, Y_train, '*', label='Treino')\n",
        "plt.plot(X_val, Y_val, '.', label='Validação')\n",
        "plt.plot(X_test, Y_test, '.', label='Teste')\n",
        "plt.legend()\n",
        "plt.show()"
      ],
      "metadata": {
        "colab": {
          "base_uri": "https://localhost:8080/",
          "height": 317
        },
        "id": "Ox2WcGDXw3AC",
        "outputId": "52127dcc-3f51-43a8-a9cb-81b0e9dc7926"
      },
      "execution_count": null,
      "outputs": [
        {
          "output_type": "stream",
          "name": "stdout",
          "text": [
            "(22, 1)\n",
            "(6, 1)\n",
            "(112, 1)\n"
          ]
        },
        {
          "output_type": "display_data",
          "data": {
            "text/plain": [
              "<Figure size 432x288 with 1 Axes>"
            ],
            "image/png": "[encoded data removed]"
          },
          "metadata": {
            "needs_background": "light"
          }
        }
      ]
    },
    {
      "cell_type": "markdown",
      "source": [
        "## Transformação dos dados em tensores Pytorch"
      ],
      "metadata": {
        "id": "UWwsTDS6os8b"
      }
    },
    {
      "cell_type": "code",
      "source": [
        "x_train = torch.FloatTensor(X_train)\n",
        "y_train = torch.FloatTensor(Y_train)\n",
        "\n",
        "x_val = torch.FloatTensor(X_val)\n",
        "y_val = torch.FloatTensor(Y_val)\n",
        "\n",
        "x_test = torch.FloatTensor(X_test)\n",
        "y_test = torch.FloatTensor(Y_test)\n"
      ],
      "metadata": {
        "id": "YEAg6wTGowXe"
      },
      "execution_count": null,
      "outputs": []
    },
    {
      "cell_type": "code",
      "source": [
        "# verificando disponibilidade da gpu\n",
        "device = torch.device('cuda' if torch.cuda.is_available() else 'cpu')\n",
        "device"
      ],
      "metadata": {
        "colab": {
          "base_uri": "https://localhost:8080/"
        },
        "id": "ThYPrQCbmlis",
        "outputId": "78c7a187-f91c-4789-b6f5-be9f736b0221"
      },
      "execution_count": null,
      "outputs": [
        {
          "output_type": "execute_result",
          "data": {
            "text/plain": [
              "device(type='cpu')"
            ]
          },
          "metadata": {},
          "execution_count": 10
        }
      ]
    },
    {
      "cell_type": "markdown",
      "source": [
        "# Modelo com uma única camada (linear)"
      ],
      "metadata": {
        "id": "hVMUrVbdmOVw"
      }
    },
    {
      "cell_type": "code",
      "source": [
        "class MLPLin(nn.Module):\n",
        "    def __init__(self,input_dim,output_dim):\n",
        "        super(MLPLin,self).__init__()\n",
        "        self.rede = nn.Sequential(\n",
        "            nn.Linear(input_dim,output_dim),\n",
        "        )\n",
        "    def forward(self,x):\n",
        "        out =  self.rede(x)\n",
        "        return out"
      ],
      "metadata": {
        "id": "T5f49Ab3mlB4"
      },
      "execution_count": null,
      "outputs": []
    },
    {
      "cell_type": "markdown",
      "source": [
        "## Instanciação do Modelo"
      ],
      "metadata": {
        "id": "vgAtnlAFp01T"
      }
    },
    {
      "cell_type": "code",
      "source": [
        "input_dim  = 1 # número de atributos do Iris\n",
        "output_dim = 1 # número de classes\n",
        "\n",
        "modeloLin = MLPLin(input_dim,output_dim)"
      ],
      "metadata": {
        "id": "tCYQoHuAp6Ht"
      },
      "execution_count": null,
      "outputs": []
    },
    {
      "cell_type": "code",
      "source": [
        "from torchsummary import summary\n",
        "\n",
        "print(modeloLin)\n",
        "summary(modeloLin, (100,1))"
      ],
      "metadata": {
        "colab": {
          "base_uri": "https://localhost:8080/"
        },
        "id": "LhXucCTRvwPv",
        "outputId": "ce8f72df-e3ca-4b8e-fa14-ff6604a6c525"
      },
      "execution_count": null,
      "outputs": [
        {
          "output_type": "stream",
          "name": "stdout",
          "text": [
            "MLPLin(\n",
            "  (rede): Sequential(\n",
            "    (0): Linear(in_features=1, out_features=1, bias=True)\n",
            "  )\n",
            ")\n",
            "----------------------------------------------------------------\n",
            "        Layer (type)               Output Shape         Param #\n",
            "================================================================\n",
            "            Linear-1               [-1, 100, 1]               2\n",
            "================================================================\n",
            "Total params: 2\n",
            "Trainable params: 2\n",
            "Non-trainable params: 0\n",
            "----------------------------------------------------------------\n",
            "Input size (MB): 0.00\n",
            "Forward/backward pass size (MB): 0.00\n",
            "Params size (MB): 0.00\n",
            "Estimated Total Size (MB): 0.00\n",
            "----------------------------------------------------------------\n"
          ]
        }
      ]
    },
    {
      "cell_type": "markdown",
      "source": [
        "## Otimizador e Função de Custo"
      ],
      "metadata": {
        "id": "nLJt0gOApL55"
      }
    },
    {
      "cell_type": "code",
      "source": [
        "eta = 0.02\n",
        "loss_function = nn.MSELoss()\n",
        "optimizer = torch.optim.SGD(modeloLin.parameters(),lr=eta)"
      ],
      "metadata": {
        "id": "ngNmECCKppfV"
      },
      "execution_count": null,
      "outputs": []
    },
    {
      "cell_type": "markdown",
      "source": [
        "## Treinamento"
      ],
      "metadata": {
        "id": "MQB6Nqq-mQ6W"
      }
    },
    {
      "cell_type": "markdown",
      "source": [
        "### Laço de treinamento da rede\n",
        "\n",
        "\n"
      ],
      "metadata": {
        "id": "0nbo_MJvpPP6"
      }
    },
    {
      "cell_type": "code",
      "source": [
        "def train_network(model,optimizer,loss_function,x_train,y_train,x_val,y_val,num_epochs,train_losses,val_losses):\n",
        "    for epoch in range(num_epochs):\n",
        "        # zerando os gradientes da época anterior\n",
        "        optimizer.zero_grad()\n",
        "        \n",
        "        # fase de propagação\n",
        "        output_train = model(x_train)\n",
        "\n",
        "        # cálculo do erro (função de custo - loss function)\n",
        "        loss_train = loss_function(output_train, y_train)\n",
        "\n",
        "        # fase de retroprogação\n",
        "        loss_train.backward()\n",
        "\n",
        "        # atualização dos pesos da rede\n",
        "        optimizer.step()\n",
        "\n",
        "        # avaliando o modelo com o conjunto de validação\n",
        "        output_val = model(x_val)\n",
        "        loss_val = loss_function(output_val,y_val)\n",
        "\n",
        "        train_losses[epoch] = loss_train.item()\n",
        "        val_losses[epoch] = loss_val.item()\n",
        "\n",
        "        if (epoch + 1) % 1000 == 0:\n",
        "            print(f\"Epoch {epoch+1}/{num_epochs}, Erro Treino: {loss_train.item():.4f},  Erro Validação: {loss_val.item():.3f}\")"
      ],
      "metadata": {
        "id": "BUFMlwpcs5Y-"
      },
      "execution_count": null,
      "outputs": []
    },
    {
      "cell_type": "code",
      "source": [
        "num_epochs = 5000\n",
        "train_losses = np.zeros(num_epochs)\n",
        "val_losses  = np.zeros(num_epochs)\n",
        "\n",
        "train_network(modeloLin,optimizer,loss_function,x_train,y_train,x_val,y_val,num_epochs,train_losses,val_losses)"
      ],
      "metadata": {
        "colab": {
          "base_uri": "https://localhost:8080/"
        },
        "id": "PG8DTjtOpSJg",
        "outputId": "ecc8430b-228c-4d5f-a690-d76d99286ae4"
      },
      "execution_count": null,
      "outputs": [
        {
          "output_type": "stream",
          "name": "stdout",
          "text": [
            "Epoch 1000/5000, Erro Treino: 0.4300,  Erro Validação: 0.582\n",
            "Epoch 2000/5000, Erro Treino: 0.4300,  Erro Validação: 0.582\n",
            "Epoch 3000/5000, Erro Treino: 0.4300,  Erro Validação: 0.582\n",
            "Epoch 4000/5000, Erro Treino: 0.4300,  Erro Validação: 0.582\n",
            "Epoch 5000/5000, Erro Treino: 0.4300,  Erro Validação: 0.582\n"
          ]
        }
      ]
    },
    {
      "cell_type": "markdown",
      "source": [
        "## Resultados"
      ],
      "metadata": {
        "id": "9rPb3W25mThn"
      }
    },
    {
      "cell_type": "code",
      "source": [
        "plt.figure(figsize=(10,10))\n",
        "plt.plot(train_losses, label='Erro de Treino')\n",
        "plt.plot(val_losses, label='Erro de Validação')\n",
        "plt.legend()\n",
        "plt.show()"
      ],
      "metadata": {
        "colab": {
          "base_uri": "https://localhost:8080/",
          "height": 592
        },
        "id": "RlgB9KzOmmHn",
        "outputId": "7b4b7de6-aa02-4562-e7e5-9d24d7aa54d5"
      },
      "execution_count": null,
      "outputs": [
        {
          "output_type": "display_data",
          "data": {
            "text/plain": [
              "<Figure size 720x720 with 1 Axes>"
            ],
            "image/png": "[encoded data removed]"
          },
          "metadata": {
            "needs_background": "light"
          }
        }
      ]
    },
    {
      "cell_type": "code",
      "source": [
        "predictions_train = []\n",
        "predictions_val = []\n",
        "predictions_test =  []\n",
        "with torch.no_grad():\n",
        "    predictions_train = modeloLin(x_train)\n",
        "    predictions_val = modeloLin(x_val)\n",
        "    predictions_test = modeloLin(x_test)\n",
        "\n",
        "erro_train = loss_function(predictions_train,y_train)\n",
        "erro_val = loss_function(predictions_val,y_val)\n",
        "erro_test = loss_function(predictions_test,y_test)\n",
        "\n",
        "# from sklearn.metrics import accuracy_score\n",
        "# acc_train = accuracy_score(x_train, predictions_train)\n",
        "\n",
        "print(f\"Erro de Treino: {erro_train}\")\n",
        "print(f\"Erro de Validação: {erro_val}\")\n",
        "print(f\"Erro de Teste: {erro_test}\")"
      ],
      "metadata": {
        "colab": {
          "base_uri": "https://localhost:8080/"
        },
        "id": "dA9-8DottW9K",
        "outputId": "0e31fbb9-9b0e-48b6-8dad-9fa9919db147"
      },
      "execution_count": null,
      "outputs": [
        {
          "output_type": "stream",
          "name": "stdout",
          "text": [
            "Erro de Treino: 0.42998287081718445\n",
            "Erro de Validação: 0.5817461013793945\n",
            "Erro de Teste: 0.4479665160179138\n"
          ]
        }
      ]
    },
    {
      "cell_type": "code",
      "source": [
        "plt.plot(x_train, y_train, 'x', label='Dados de Treino')\n",
        "plt.plot(x_train, predictions_train, '.', label='Valores Preditos')\n",
        "plt.xlabel('Eixo x')\n",
        "plt.ylabel('Eixo y')\n",
        "plt.legend()\n",
        "plt.show()"
      ],
      "metadata": {
        "colab": {
          "base_uri": "https://localhost:8080/",
          "height": 279
        },
        "id": "cs-sYw86D_ob",
        "outputId": "16b481da-66c8-4c50-dae2-d2f71ecaa533"
      },
      "execution_count": null,
      "outputs": [
        {
          "output_type": "display_data",
          "data": {
            "text/plain": [
              "<Figure size 432x288 with 1 Axes>"
            ],
            "image/png": "[encoded data removed]"
          },
          "metadata": {
            "needs_background": "light"
          }
        }
      ]
    },
    {
      "cell_type": "code",
      "source": [
        "plt.plot(x_test, y_test, '.', label='Dados de Teste')\n",
        "plt.plot(x_test, predictions_test, '.', label='Valores Preditos')\n",
        "plt.xlabel('x')\n",
        "plt.ylabel('y')\n",
        "plt.legend()\n",
        "plt.show()"
      ],
      "metadata": {
        "colab": {
          "base_uri": "https://localhost:8080/",
          "height": 279
        },
        "id": "h4m7JwdrMpOB",
        "outputId": "c750ce4c-795d-46fa-f38d-c3573e436f77"
      },
      "execution_count": null,
      "outputs": [
        {
          "output_type": "display_data",
          "data": {
            "text/plain": [
              "<Figure size 432x288 with 1 Axes>"
            ],
            "image/png": "[encoded data removed]"
          },
          "metadata": {
            "needs_background": "light"
          }
        }
      ]
    },
    {
      "cell_type": "code",
      "source": [
        "plt.plot([0,torch.max(y_test)],[0,torch.max(y_test)], 'black')\n",
        "plt.plot(y_test, predictions_test, '.')\n",
        "plt.xlabel('y (real)')\n",
        "plt.ylabel('y (predito)')\n",
        "# plt.legend()\n",
        "plt.show()"
      ],
      "metadata": {
        "colab": {
          "base_uri": "https://localhost:8080/",
          "height": 279
        },
        "id": "vvtnNPNVNCpg",
        "outputId": "46a3f496-40c8-4d83-f129-51c7e5920790"
      },
      "execution_count": null,
      "outputs": [
        {
          "output_type": "display_data",
          "data": {
            "text/plain": [
              "<Figure size 432x288 with 1 Axes>"
            ],
            "image/png": "[encoded data removed]"
          },
          "metadata": {
            "needs_background": "light"
          }
        }
      ]
    },
    {
      "cell_type": "markdown",
      "source": [
        "# Modelo com várias camadas"
      ],
      "metadata": {
        "id": "ldcAtbbi34y9"
      }
    },
    {
      "cell_type": "code",
      "source": [
        "class MLP(nn.Module):\n",
        "    def __init__(self,input_dim,output_dim):\n",
        "        super(MLP,self).__init__()\n",
        "        self.rede = nn.Sequential(\n",
        "            nn.Linear(input_dim,512),\n",
        "            nn.ReLU(),\n",
        "            nn.Linear(512,256),\n",
        "            nn.ReLU(),\n",
        "            nn.Linear(256,128),\n",
        "            nn.ReLU(),\n",
        "            nn.Linear(128,64),\n",
        "            nn.ReLU(),\n",
        "            nn.Linear(64,output_dim),\n",
        "        )\n",
        "    def forward(self,x):\n",
        "        out =  self.rede(x)\n",
        "        return out"
      ],
      "metadata": {
        "id": "gNyjNytQ34y9"
      },
      "execution_count": null,
      "outputs": []
    },
    {
      "cell_type": "markdown",
      "source": [
        "## Instanciação do Modelo"
      ],
      "metadata": {
        "id": "yHZvjSef34y-"
      }
    },
    {
      "cell_type": "code",
      "source": [
        "input_dim  = 1 # número de atributos do Iris\n",
        "output_dim = 1 # número de classes\n",
        "\n",
        "modelo = MLP(input_dim,output_dim)"
      ],
      "metadata": {
        "id": "rUfRTdAx34y-"
      },
      "execution_count": null,
      "outputs": []
    },
    {
      "cell_type": "code",
      "source": [
        "from torchsummary import summary\n",
        "\n",
        "print(modelo)\n",
        "summary(modelo, (100,1))"
      ],
      "metadata": {
        "colab": {
          "base_uri": "https://localhost:8080/"
        },
        "outputId": "8461150c-20dc-4996-a114-01d33c63256a",
        "id": "c0LQ-cSb34y-"
      },
      "execution_count": null,
      "outputs": [
        {
          "output_type": "stream",
          "name": "stdout",
          "text": [
            "MLP(\n",
            "  (rede): Sequential(\n",
            "    (0): Linear(in_features=1, out_features=512, bias=True)\n",
            "    (1): ReLU()\n",
            "    (2): Linear(in_features=512, out_features=256, bias=True)\n",
            "    (3): ReLU()\n",
            "    (4): Linear(in_features=256, out_features=128, bias=True)\n",
            "    (5): ReLU()\n",
            "    (6): Linear(in_features=128, out_features=64, bias=True)\n",
            "    (7): ReLU()\n",
            "    (8): Linear(in_features=64, out_features=1, bias=True)\n",
            "  )\n",
            ")\n",
            "----------------------------------------------------------------\n",
            "        Layer (type)               Output Shape         Param #\n",
            "================================================================\n",
            "            Linear-1             [-1, 100, 512]           1,024\n",
            "              ReLU-2             [-1, 100, 512]               0\n",
            "            Linear-3             [-1, 100, 256]         131,328\n",
            "              ReLU-4             [-1, 100, 256]               0\n",
            "            Linear-5             [-1, 100, 128]          32,896\n",
            "              ReLU-6             [-1, 100, 128]               0\n",
            "            Linear-7              [-1, 100, 64]           8,256\n",
            "              ReLU-8              [-1, 100, 64]               0\n",
            "            Linear-9               [-1, 100, 1]              65\n",
            "================================================================\n",
            "Total params: 173,569\n",
            "Trainable params: 173,569\n",
            "Non-trainable params: 0\n",
            "----------------------------------------------------------------\n",
            "Input size (MB): 0.00\n",
            "Forward/backward pass size (MB): 1.47\n",
            "Params size (MB): 0.66\n",
            "Estimated Total Size (MB): 2.13\n",
            "----------------------------------------------------------------\n"
          ]
        }
      ]
    },
    {
      "cell_type": "markdown",
      "source": [
        "## Otimizador e Função de Custo"
      ],
      "metadata": {
        "id": "nEP4Nwax34y-"
      }
    },
    {
      "cell_type": "code",
      "source": [
        "eta = 0.02\n",
        "loss_function = nn.MSELoss()\n",
        "# loss_function = nn.CrossEntropyLoss()\n",
        "optimizer = torch.optim.SGD(modelo.parameters(),lr=eta)"
      ],
      "metadata": {
        "id": "G9BUi6zb34y-"
      },
      "execution_count": null,
      "outputs": []
    },
    {
      "cell_type": "markdown",
      "source": [
        "## Treinamento"
      ],
      "metadata": {
        "id": "7aftb-7E34y_"
      }
    },
    {
      "cell_type": "markdown",
      "source": [
        "### Transformação dos dados em tensores Pytorch"
      ],
      "metadata": {
        "id": "532Rsxma34y_"
      }
    },
    {
      "cell_type": "code",
      "source": [
        "x_train = torch.FloatTensor(X_train)\n",
        "y_train = torch.FloatTensor(Y_train)\n",
        "\n",
        "x_val = torch.FloatTensor(X_val)\n",
        "y_val = torch.FloatTensor(Y_val)\n",
        "\n",
        "x_test = torch.FloatTensor(X_test)\n",
        "y_test = torch.FloatTensor(Y_test)\n"
      ],
      "metadata": {
        "id": "fjmw665u34y_"
      },
      "execution_count": null,
      "outputs": []
    },
    {
      "cell_type": "code",
      "source": [
        "# verificando disponibilidade da gpu\n",
        "device = torch.device('cuda' if torch.cuda.is_available() else 'cpu')\n",
        "device"
      ],
      "metadata": {
        "colab": {
          "base_uri": "https://localhost:8080/"
        },
        "outputId": "12e9f58b-dc9d-4dbf-fda9-d4da73ff8d30",
        "id": "ce66VZXA34y_"
      },
      "execution_count": null,
      "outputs": [
        {
          "output_type": "execute_result",
          "data": {
            "text/plain": [
              "device(type='cpu')"
            ]
          },
          "metadata": {},
          "execution_count": 27
        }
      ]
    },
    {
      "cell_type": "markdown",
      "source": [
        "### Laço de treinamento da rede\n",
        "\n",
        "\n"
      ],
      "metadata": {
        "id": "vHqV5L5t34zA"
      }
    },
    {
      "cell_type": "code",
      "source": [
        "def train_network(model,optimizer,loss_function,x_train,y_train,x_val,y_val,num_epochs,train_losses,val_losses):\n",
        "    for epoch in range(num_epochs):\n",
        "        # zerando os gradientes da época anterior\n",
        "        optimizer.zero_grad()\n",
        "        \n",
        "        # fase de propagação\n",
        "        output_train = model(x_train)\n",
        "\n",
        "        # cálculo do erro (função de custo - loss function)\n",
        "        loss_train = loss_function(output_train, y_train)\n",
        "\n",
        "        # fase de retroprogação\n",
        "        loss_train.backward()\n",
        "\n",
        "        # atualização dos pesos da rede\n",
        "        optimizer.step()\n",
        "\n",
        "        # avaliando o modelo com o conjunto de validação\n",
        "        output_val = model(x_val)\n",
        "        loss_val = loss_function(output_val,y_val)\n",
        "\n",
        "        train_losses[epoch] = loss_train.item()\n",
        "        val_losses[epoch] = loss_val.item()\n",
        "\n",
        "        if (epoch + 1) % 1000 == 0:\n",
        "            print(f\"Epoch {epoch+1}/{num_epochs}, Erro Treino: {loss_train.item():.4f},  Erro Validação: {loss_val.item():.3f}\")"
      ],
      "metadata": {
        "id": "ck-2EvyJ34zA"
      },
      "execution_count": null,
      "outputs": []
    },
    {
      "cell_type": "code",
      "source": [
        "num_epochs = 20000\n",
        "train_losses = np.zeros(num_epochs)\n",
        "val_losses  = np.zeros(num_epochs)\n",
        "\n",
        "train_network(modelo,optimizer,loss_function,x_train,y_train,x_val,y_val,num_epochs,train_losses,val_losses)"
      ],
      "metadata": {
        "colab": {
          "base_uri": "https://localhost:8080/"
        },
        "outputId": "6fc48cdc-b5d8-4bec-a546-6f9da2b5d839",
        "id": "G63sXiOa34zB"
      },
      "execution_count": null,
      "outputs": [
        {
          "output_type": "stream",
          "name": "stdout",
          "text": [
            "Epoch 1000/20000, Erro Treino: 0.1987,  Erro Validação: 0.601\n",
            "Epoch 2000/20000, Erro Treino: 0.1439,  Erro Validação: 0.373\n",
            "Epoch 3000/20000, Erro Treino: 0.1049,  Erro Validação: 0.222\n",
            "Epoch 4000/20000, Erro Treino: 0.0690,  Erro Validação: 0.097\n",
            "Epoch 5000/20000, Erro Treino: 0.0732,  Erro Validação: 0.146\n",
            "Epoch 6000/20000, Erro Treino: 0.0486,  Erro Validação: 0.082\n",
            "Epoch 7000/20000, Erro Treino: 0.0679,  Erro Validação: 0.147\n",
            "Epoch 8000/20000, Erro Treino: 0.0490,  Erro Validação: 0.119\n",
            "Epoch 9000/20000, Erro Treino: 0.0385,  Erro Validação: 0.105\n",
            "Epoch 10000/20000, Erro Treino: 0.0442,  Erro Validação: 0.093\n",
            "Epoch 11000/20000, Erro Treino: 0.0359,  Erro Validação: 0.103\n",
            "Epoch 12000/20000, Erro Treino: 0.0276,  Erro Validação: 0.058\n",
            "Epoch 13000/20000, Erro Treino: 0.0367,  Erro Validação: 0.101\n",
            "Epoch 14000/20000, Erro Treino: 0.0324,  Erro Validação: 0.089\n",
            "Epoch 15000/20000, Erro Treino: 0.0397,  Erro Validação: 0.107\n",
            "Epoch 16000/20000, Erro Treino: 0.0283,  Erro Validação: 0.085\n",
            "Epoch 17000/20000, Erro Treino: 0.0367,  Erro Validação: 0.099\n",
            "Epoch 18000/20000, Erro Treino: 0.0344,  Erro Validação: 0.093\n",
            "Epoch 19000/20000, Erro Treino: 0.0272,  Erro Validação: 0.078\n",
            "Epoch 20000/20000, Erro Treino: 0.0254,  Erro Validação: 0.074\n"
          ]
        }
      ]
    },
    {
      "cell_type": "markdown",
      "source": [
        "## Resultados"
      ],
      "metadata": {
        "id": "MPXqd0RF34zB"
      }
    },
    {
      "cell_type": "code",
      "source": [
        "plt.figure(figsize=(10,10))\n",
        "plt.plot(train_losses, label='Erro de Treino')\n",
        "plt.plot(val_losses, label='Erro de Validação')\n",
        "plt.legend()\n",
        "plt.show()"
      ],
      "metadata": {
        "colab": {
          "base_uri": "https://localhost:8080/",
          "height": 592
        },
        "outputId": "fc860552-ab38-4527-f32b-5c663008f8c8",
        "id": "xz9OwjWH34zB"
      },
      "execution_count": null,
      "outputs": [
        {
          "output_type": "display_data",
          "data": {
            "text/plain": [
              "<Figure size 720x720 with 1 Axes>"
            ],
            "image/png": "[encoded data removed]"
          },
          "metadata": {
            "needs_background": "light"
          }
        }
      ]
    },
    {
      "cell_type": "code",
      "source": [
        "predictions_train = []\n",
        "predictions_val = []\n",
        "predictions_test =  []\n",
        "with torch.no_grad():\n",
        "    predictions_train = modelo(x_train)\n",
        "    predictions_val = modelo(x_val)\n",
        "    predictions_test = modelo(x_test)\n",
        "\n",
        "erro_train = loss_function(predictions_train,y_train)\n",
        "erro_val = loss_function(predictions_val,y_val)\n",
        "erro_test = loss_function(predictions_test,y_test)\n",
        "\n",
        "# from sklearn.metrics import accuracy_score\n",
        "# acc_train = accuracy_score(x_train, predictions_train)\n",
        "\n",
        "print(f\"Erro de Treino: {erro_train}\")\n",
        "print(f\"Erro de Validação: {erro_val}\")\n",
        "print(f\"Erro de Teste: {erro_test}\")"
      ],
      "metadata": {
        "colab": {
          "base_uri": "https://localhost:8080/"
        },
        "outputId": "045022a6-401d-4113-dfc0-75e87dc8f56a",
        "id": "hgdf04mV34zB"
      },
      "execution_count": null,
      "outputs": [
        {
          "output_type": "stream",
          "name": "stdout",
          "text": [
            "Erro de Treino: 0.02614043466746807\n",
            "Erro de Validação: 0.07446827739477158\n",
            "Erro de Teste: 0.17564459145069122\n"
          ]
        }
      ]
    },
    {
      "cell_type": "code",
      "source": [
        "plt.plot(x_train, y_train, 'x', label='Dados de Treino')\n",
        "plt.plot(x_train, predictions_train, '.', label='Valores Preditos')\n",
        "plt.xlabel('x')\n",
        "plt.ylabel('y')\n",
        "plt.legend()\n",
        "plt.show()"
      ],
      "metadata": {
        "colab": {
          "base_uri": "https://localhost:8080/",
          "height": 279
        },
        "outputId": "adc15a83-f63c-4397-918b-4f67988a0ace",
        "id": "HyG8ktrf34zB"
      },
      "execution_count": null,
      "outputs": [
        {
          "output_type": "display_data",
          "data": {
            "text/plain": [
              "<Figure size 432x288 with 1 Axes>"
            ],
            "image/png": "[encoded data removed]"
          },
          "metadata": {
            "needs_background": "light"
          }
        }
      ]
    },
    {
      "cell_type": "code",
      "source": [
        "plt.plot(x_test, y_test, '.', label='Dados de Teste')\n",
        "plt.plot(x_test, predictions_test, '.', label='Valores Preditos')\n",
        "plt.xlabel('Eixo x')\n",
        "plt.ylabel('Eixo y')\n",
        "plt.legend()\n",
        "plt.show()"
      ],
      "metadata": {
        "colab": {
          "base_uri": "https://localhost:8080/",
          "height": 279
        },
        "outputId": "7273c6cf-bea8-4cd6-a26d-ec7a680965c4",
        "id": "kkfhP_Yn34zC"
      },
      "execution_count": null,
      "outputs": [
        {
          "output_type": "display_data",
          "data": {
            "text/plain": [
              "<Figure size 432x288 with 1 Axes>"
            ],
            "image/png": "[encoded data removed]"
          },
          "metadata": {
            "needs_background": "light"
          }
        }
      ]
    },
    {
      "cell_type": "code",
      "source": [
        "plt.plot([0,torch.max(y_test)],[0,torch.max(y_test)], 'black')\n",
        "plt.plot(y_test, predictions_test, '.')\n",
        "plt.xlabel('y (real)')\n",
        "plt.ylabel('y (predito)')\n",
        "# plt.legend()\n",
        "plt.show()"
      ],
      "metadata": {
        "colab": {
          "base_uri": "https://localhost:8080/",
          "height": 279
        },
        "outputId": "b9e96d83-d3d7-4320-f423-82d708e5b2b7",
        "id": "VOAZIV_D34zC"
      },
      "execution_count": null,
      "outputs": [
        {
          "output_type": "display_data",
          "data": {
            "text/plain": [
              "<Figure size 432x288 with 1 Axes>"
            ],
            "image/png": "[encoded data removed]"
          },
          "metadata": {
            "needs_background": "light"
          }
        }
      ]
    }
  ]
}