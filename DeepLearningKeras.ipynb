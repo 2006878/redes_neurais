{
  "nbformat": 4,
  "nbformat_minor": 0,
  "metadata": {
    "colab": {
      "provenance": [],
      "authorship_tag": "ABX9TyPIWsgoqAGQ8URFhxoIXP9M"
    },
    "kernelspec": {
      "name": "python3",
      "display_name": "Python 3"
    },
    "language_info": {
      "name": "python"
    }
  },
  "cells": [
    {
      "cell_type": "markdown",
      "source": [
        "##Importação das ferramentas e configuração das camadas utilizando Keras"
      ],
      "metadata": {
        "id": "lAUYVftiNASS"
      }
    },
    {
      "cell_type": "code",
      "execution_count": 5,
      "metadata": {
        "id": "_Ky-PB9FI33_"
      },
      "outputs": [],
      "source": [
        "import tensorflow as tf\n",
        "from tensorflow import keras\n",
        "from keras import layers"
      ]
    },
    {
      "cell_type": "code",
      "source": [
        "model = keras.Sequential()\n",
        "model.add(layers.Dense(20, input_shape=(4,)))\n",
        "model.add(layers.Dense(10))\n",
        "model.add(layers.Dense(3))"
      ],
      "metadata": {
        "id": "tLD1d_I0Kzg3"
      },
      "execution_count": 15,
      "outputs": []
    },
    {
      "cell_type": "code",
      "source": [
        "from keras.engine import input_layer\n",
        "input_layer = keras.Input(shape=(4,))\n",
        "layer2 = layers.Dense(20)(input_layer)\n",
        "layer3 = layers.Dense(10)(layer2)\n",
        "output_layer = layers.Dense(3)(layer3)\n",
        "model2 = keras.Model(input_layer, output_layer)"
      ],
      "metadata": {
        "id": "-Ps6-OmOLRaD"
      },
      "execution_count": 16,
      "outputs": []
    },
    {
      "cell_type": "markdown",
      "source": [
        "##Geração e treinamento do modelo"
      ],
      "metadata": {
        "id": "l3XcrG0oNTLF"
      }
    },
    {
      "cell_type": "code",
      "source": [
        "from keras.backend import categorical_crossentropy\n",
        "model.compile(optimizer='adam', loss='categorical_crossentropy')"
      ],
      "metadata": {
        "id": "JO2aXHGjNZhp"
      },
      "execution_count": 17,
      "outputs": []
    },
    {
      "cell_type": "code",
      "source": [
        "opt = keras.optimizers.Adam(learning_rate=0.01)\n",
        "model.compile(optimizer=opt, loss='categorical_crossentropy')"
      ],
      "metadata": {
        "id": "1Vvi6WeDN66K"
      },
      "execution_count": 18,
      "outputs": []
    },
    {
      "cell_type": "code",
      "source": [
        "model.fit(x_train, y_train,\n",
        "          epochs=50,\n",
        "          batch_size=10,\n",
        "          shuffle=True,\n",
        "          validation_data=(x_val, y_val))"
      ],
      "metadata": {
        "id": "DVKzERQ4Oj23"
      },
      "execution_count": null,
      "outputs": []
    }
  ]
}